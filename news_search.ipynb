{
 "cells": [
  {
   "cell_type": "code",
   "execution_count": 174,
   "metadata": {},
   "outputs": [],
   "source": [
    "search_word = '武漢'"
   ]
  },
  {
   "cell_type": "code",
   "execution_count": 175,
   "metadata": {},
   "outputs": [],
   "source": [
    "import requests, re\n",
    "from bs4 import BeautifulSoup"
   ]
  },
  {
   "cell_type": "code",
   "execution_count": 178,
   "metadata": {},
   "outputs": [],
   "source": [
    "def get_bs4_soup_object(url):\n",
    "    res = requests.get(url)\n",
    "    web_content = res.text\n",
    "    soup = BeautifulSoup(web_content, 'lxml')\n",
    "    return soup"
   ]
  },
  {
   "cell_type": "markdown",
   "metadata": {},
   "source": [
    "# 科技報橘"
   ]
  },
  {
   "cell_type": "code",
   "execution_count": 179,
   "metadata": {},
   "outputs": [
    {
     "name": "stdout",
     "output_type": "stream",
     "text": [
      "武漢肺炎病毒是 SARS 的「近親」！8 個 Q&A，解密武漢病毒的起源、傳染性、感染症狀\n",
      "https://buzzorange.com/techorange/2020/01/22/wuhan-pneumonia/\n",
      "比中美關稅戰影響更大！花旗首席經濟學家評，武漢肺炎是金融市場的黑天鵝\n",
      "https://buzzorange.com/techorange/2020/01/22/pneumonialike-virus-wuhan/\n"
     ]
    }
   ],
   "source": [
    "all_h4 = soup.find_all('h4')\n",
    "for item in all_h4:\n",
    "    if search_word in item.text:\n",
    "        print(item.text)\n",
    "        print(item.a['href'])"
   ]
  },
  {
   "cell_type": "markdown",
   "metadata": {},
   "source": [
    "## BBC 中文"
   ]
  },
  {
   "cell_type": "code",
   "execution_count": 180,
   "metadata": {},
   "outputs": [
    {
     "name": "stdout",
     "output_type": "stream",
     "text": [
      "\n",
      "武漢肺炎：黃岡、鄂州封城 三個城市實施「檢疫隔離」\n",
      "\n",
      "\n",
      "武漢肺炎：死亡個案上升 武漢護士哭訴擔心\n",
      "\n",
      "\n",
      "武漢「封城」 湖北或存在「瞞報」疫情\n",
      "\n",
      "\n",
      "新型冠狀病毒疫情爆發地武漢是怎樣的城市\n",
      "\n",
      "\n",
      "武漢肺炎：英國加強防疫 監測中國航班乘客\n",
      "\n",
      "\n",
      "台灣叫停武漢旅遊團 首例確診者系帶病返鄉 \n",
      "\n",
      "\n",
      "武漢封城防控疫情 病例和死亡人數飆升\n",
      "\n",
      "\n",
      "武漢新型病毒有變異可能 確診及死亡人數攀升\n",
      "\n",
      "100秒看懂關於武漢新型冠狀病毒的已知信息\n",
      "武漢肺炎：人和事 中國薩斯留下的時代記憶\n",
      "\n",
      "武漢肺炎：五個問題帶你認識這次疫情\n",
      "\n",
      "\n",
      "武漢肺炎：疫情跨洲擴散，美國第一例確診\n",
      "\n",
      "\n",
      "武漢新型病毒疫情影響蔓延到股市和多個行業\n",
      "\n"
     ]
    }
   ],
   "source": [
    "url = 'https://www.bbc.com/zhongwen/trad'\n",
    "soup = get_bs4_soup_object(url)\n",
    "\n",
    "all_h4 = soup.find_all('h3')\n",
    "for item in all_h4:\n",
    "    if search_word in item.text:\n",
    "        print(item.text)\n",
    "#         print(item.a['href'])"
   ]
  },
  {
   "cell_type": "markdown",
   "metadata": {},
   "source": [
    "## Udn 聯合新聞網"
   ]
  },
  {
   "cell_type": "code",
   "execution_count": 188,
   "metadata": {},
   "outputs": [
    {
     "name": "stdout",
     "output_type": "stream",
     "text": [
      "20:39武漢台商大多已返台 約數百人還留在當地\n",
      "https://udn.com/news/story/120940/4305001\n",
      "20:23大陸武漢肺炎確診病例已達633例 蔓延28省份\n",
      "https://udn.com/news/story/120936/4304996\n",
      "20:20整理包／武漢肺炎逾600例釀17死！陸僅剩4省市未淪陷\n",
      "https://udn.com/news/story/120936/4299961\n",
      "20:15新疆、陝西首度出現武漢肺炎 大陸僅剩四省市無疫情\n",
      "https://udn.com/news/story/120936/4304994\n",
      "194196整理包／武漢肺炎逾600例釀17死！陸僅剩4省市未淪陷\n",
      "https:/news/story/120936/4299961\n",
      "151169「這次我怕了」 陸抗煞專家：武漢肺炎疫情SARS十倍起跳\n",
      "https:/news/story/120936/4304518\n",
      "74367「全城封鎖」防疫！大陸武漢宣布23日10時起 公共交通全數暫停營運\n",
      "https:/news/story/120672/4304034\n",
      "74317「封城」防疫！武漢宣布23日10時起 公共交通全數暫停營運\n",
      "https:/news/story/120936/4304034\n",
      "44754武漢封城2000台商滯留 交通部：武漢12航班全停飛\n",
      "https:/news/story/120940/4304145\n"
     ]
    }
   ],
   "source": [
    "url = 'https://udn.com/news/index'\n",
    "soup = get_bs4_soup_object(url)\n",
    "result = soup.find_all('dt')\n",
    "for item in result:\n",
    "    if search_word in item.text:\n",
    "        print(item.text.strip())\n",
    "        if 'http' in item.a['href']:\n",
    "            print(item.a['href'])\n",
    "        else:\n",
    "            print('https:' +item.a['href'])"
   ]
  },
  {
   "cell_type": "markdown",
   "metadata": {},
   "source": [
    "## Google news"
   ]
  },
  {
   "cell_type": "code",
   "execution_count": 189,
   "metadata": {},
   "outputs": [
    {
     "name": "stdout",
     "output_type": "stream",
     "text": [
      "大陸武漢肺炎確診病例已達633例 蔓延28省份\n",
      "https://news.google.com./articles/CBMiJ2h0dHBzOi8vdWRuLmNvbS9uZXdzL3N0b3J5LzczMzMvNDMwNDk5NtIBLWh0dHBzOi8vdWRuLmNvbS9uZXdzL2FtcC9zdG9yeS8xMjA5MzYvNDMwNDk5Ng?hl=zh-TW&gl=TW&ceid=TW%3Azh-Hant\n",
      "武漢肺炎封城行動擴大 湖北黃岡與鄂州宣布鐵公路停運\n",
      "https://news.google.com./articles/CBMiN2h0dHBzOi8vd3d3LmNuYS5jb20udHcvbmV3cy9maXJzdG5ld3MvMjAyMDAxMjMwMTU0LmFzcHjSATtodHRwczovL3d3dy5jbmEuY29tLnR3L2FtcC9uZXdzL2ZpcnN0bmV3cy8yMDIwMDEyMzAxNTQuYXNweA?hl=zh-TW&gl=TW&ceid=TW%3Azh-Hant\n",
      "新疆、陝西首度出現武漢肺炎 大陸僅剩四省市無疫情\n",
      "https://news.google.com./articles/CBMiJ2h0dHBzOi8vdWRuLmNvbS9uZXdzL3N0b3J5LzczMzMvNDMwNDk5NNIBLWh0dHBzOi8vdWRuLmNvbS9uZXdzL2FtcC9zdG9yeS8xMjA5MzYvNDMwNDk5NA?hl=zh-TW&gl=TW&ceid=TW%3Azh-Hant\n",
      "【武漢封城21】二級防疫！中港澳來台需簽健康聲明去過武漢4千人將追蹤\n",
      "https://news.google.com./articles/CBMiQ2h0dHBzOi8vdHcuYXBwbGVkYWlseS5jb20vbGlmZS8yMDIwMDEyMy9JQ1FMREdZSUdZS1NaWExBVlE1STdZVFZVTS_SAQA?hl=zh-TW&gl=TW&ceid=TW%3Azh-Hant\n",
      "武漢肺炎》抗煞專家待1天逃離武漢 估疫情SARS十倍起跳\n",
      "https://news.google.com./articles/CBMiN2h0dHBzOi8vbmV3cy5sdG4uY29tLnR3L25ld3Mvd29ybGQvYnJlYWtpbmduZXdzLzMwNDg2NjHSATtodHRwczovL25ld3MubHRuLmNvbS50dy9hbXAvbmV3cy93b3JsZC9icmVha2luZ25ld3MvMzA0ODY2MQ?hl=zh-TW&gl=TW&ceid=TW%3Azh-Hant\n",
      "直擊／武漢封城那一刻 機場、交通堵塞、市民走不了好無奈\n",
      "https://news.google.com./articles/CAIiEPzIKQJWuiucJC7RGlbq554qGQgEKhAIACoHCAown7f0CjDxnqADMP_JqQY?hl=zh-TW&gl=TW&ceid=TW%3Azh-Hant\n",
      "武漢肺炎》中國交通部：陸海空通通「暫停進入武漢」\n",
      "https://news.google.com./articles/CBMiN2h0dHBzOi8vbmV3cy5sdG4uY29tLnR3L25ld3Mvd29ybGQvYnJlYWtpbmduZXdzLzMwNDg4NDjSATtodHRwczovL25ld3MubHRuLmNvbS50dy9hbXAvbmV3cy93b3JsZC9icmVha2luZ25ld3MvMzA0ODg0OA?hl=zh-TW&gl=TW&ceid=TW%3Azh-Hant\n",
      "武漢肺炎》中國股市封關日暴跌2.75％ 港股重挫431點\n",
      "https://news.google.com./articles/CBMiMmh0dHBzOi8vZWMubHRuLmNvbS50dy9hcnRpY2xlL2JyZWFraW5nbmV3cy8zMDQ4Njg00gE2aHR0cHM6Ly9lYy5sdG4uY29tLnR3L2FtcC9hcnRpY2xlL2JyZWFraW5nbmV3cy8zMDQ4Njg0?hl=zh-TW&gl=TW&ceid=TW%3Azh-Hant\n",
      "武漢肺炎疫情升溫 足協不排除棄賽奧運資格賽\n",
      "https://news.google.com./articles/CBMiJ2h0dHBzOi8vdWRuLmNvbS9uZXdzL3N0b3J5LzcwMDUvNDMwMzE5NdIBK2h0dHBzOi8vdWRuLmNvbS9uZXdzL2FtcC9zdG9yeS83MDA1LzQzMDMxOTU?hl=zh-TW&gl=TW&ceid=TW%3Azh-Hant\n",
      "武漢肺炎疫情持續美國流感也釀6600死\n",
      "https://news.google.com./articles/CBMiJWh0dHA6Ly90aW1lcy5oaW5ldC5uZXQvdG9waWMvMjI3NTE0MzjSAQA?hl=zh-TW&gl=TW&ceid=TW%3Azh-Hant\n"
     ]
    }
   ],
   "source": [
    "url = 'https://news.google.com/?hl=zh-TW&gl=TW&ceid=TW:zh-Hant'\n",
    "soup = get_bs4_soup_object(url)\n",
    "result = soup.find_all('h3')\n",
    "for item in result:\n",
    "    if search_word in item.text:\n",
    "        print(item.text)\n",
    "        print('https://news.google.com' + item.a['href'])"
   ]
  },
  {
   "cell_type": "markdown",
   "metadata": {},
   "source": [
    "## 科技新報"
   ]
  },
  {
   "cell_type": "code",
   "execution_count": 190,
   "metadata": {},
   "outputs": [
    {
     "name": "stdout",
     "output_type": "stream",
     "text": [
      "\n",
      "武漢管制交通禁居民離開，世衛認有助防疫情擴散\n",
      "\n",
      "https://technews.tw/2020/01/23/wuhan-to-shut-public-transport-over-outbreak/\n"
     ]
    }
   ],
   "source": [
    "url = 'https://technews.tw/'\n",
    "soup = get_bs4_soup_object(url)\n",
    "result = soup.find_all('td')\n",
    "for item in result:\n",
    "    if search_word in item.text:\n",
    "        print(item.text)\n",
    "        print(item.a['href'])"
   ]
  },
  {
   "cell_type": "markdown",
   "metadata": {},
   "source": [
    "## 經濟日報"
   ]
  },
  {
   "cell_type": "code",
   "execution_count": 191,
   "metadata": {},
   "outputs": [
    {
     "name": "stdout",
     "output_type": "stream",
     "text": [
      "20:54防武漢肺炎 菲律賓無限期停飛往返航班\n",
      "https://money.udn.com/money/story/5599/4305006\n",
      "20:39武漢台商大多已返台，約數百人還在當地\n",
      "https://money.udn.com/money/story/5603/4305001\n",
      "15:27【Bloomberg】武漢為何成為新型肺炎爆發點？兩大弱點看這隻「黑天鵝」\n",
      "https://money.udn.com/money/story/12937/4304708\n",
      "08:57【WSJ】武漢肺炎疫情擴散  大陸民眾取消春節出遊計畫\n",
      "https://money.udn.com/money/story/12937/4304103\n",
      "08:42【綜合外電】武漢肺炎爆發 恐重創全球經濟與金融市場\n",
      "https://money.udn.com/money/story/12937/4304092\n",
      "武漢為何成為新型肺炎爆發點？兩大弱點看這隻「黑天鵝」\r\n",
      "\r\n",
      "\n",
      "武漢擁有眾多年輕、且健康人口的科技中心爆發，為何會成為這次新型冠狀病毒肺炎的爆發點？\n",
      "https://money.udn.comhttps://money.udn.com/money/story/12937/4304708?bar\n",
      "【綜合外電】武漢肺炎爆發 恐重創全球經濟與金融市場 \n",
      "已有數百人遭感染的武漢肺炎病毒傳出會人傳人的消息，已撼動金融市場，並引發投資人疑慮，擔心可能重創正在重拾成長動能的全球經濟。\n",
      "\n",
      "\n",
      "2020-01-23\n",
      "\n",
      "\n",
      "\n",
      " share\n",
      "\n",
      "facebook\n",
      "plurk\n",
      "twitter\n",
      "https://money.udn.comhttps://money.udn.com/money/story/12937/4304092\n"
     ]
    }
   ],
   "source": [
    "url = 'https://money.udn.com/money/index'\n",
    "soup = get_bs4_soup_object(url)\n",
    "result = soup.find_all('dt')\n",
    "for item in result:\n",
    "    if search_word in item.text:\n",
    "        print(item.text.strip())\n",
    "        print('https://money.udn.com' + item.a['href'])"
   ]
  },
  {
   "cell_type": "markdown",
   "metadata": {},
   "source": [
    "## 中時電子報"
   ]
  },
  {
   "cell_type": "code",
   "execution_count": 192,
   "metadata": {},
   "outputs": [
    {
     "name": "stdout",
     "output_type": "stream",
     "text": [
      " 防武漢肺炎 WHO專家籲加強互通\n",
      "https://www.chinatimes.com/realtimenews/20200123003079-260408\n",
      "現場直擊！武漢迎來封城時間\n",
      "https://www.chinatimes.com/realtimenews/20200123003047-260409\n",
      "圖解武漢肺炎 自保必知6大重點\n",
      "https://www.chinatimes.com/realtimenews/20200122004730-260405\n",
      "武漢肺炎疫情延燒 世衛將開緊急會議\n",
      "https://www.chinatimes.com/realtimenews/20200121000920-260405\n"
     ]
    }
   ],
   "source": [
    "url = 'https://www.chinatimes.com/?chdtv'\n",
    "soup = get_bs4_soup_object(url)\n",
    "result = soup.find_all('h3')\n",
    "for item in result:\n",
    "    if search_word in item.text:\n",
    "        print(item.text)\n",
    "        print(item.a['href'])\n"
   ]
  },
  {
   "cell_type": "markdown",
   "metadata": {},
   "source": [
    "# 蘋果即時"
   ]
  },
  {
   "cell_type": "code",
   "execution_count": 193,
   "metadata": {},
   "outputs": [
    {
     "name": "stdout",
     "output_type": "stream",
     "text": [
      "【不斷更新】武漢封城！湖北共5市交通停運管制　遭質疑侵犯人權\n",
      "https://money.udn.comhttps://tw.news.appledaily.com/international/realtime/20200123/1695138?itm_source=twad_web&itm_medium=internal&itm_campaign=twad_marquee&itm_content=marquee\n",
      "21:01\n",
      "國際\n",
      "【不斷更新】武漢封城！湖北共5市交通停運...\n",
      "https://money.udn.comhttps://tw.news.appledaily.com/international/realtime/20200123/1695138/\n",
      "20:41\n",
      "生活\n",
      "武漢肺炎福建省確診3案例　金門防疫升級\n",
      "https://money.udn.comhttps://tw.news.appledaily.com/life/realtime/20200123/1695429/\n",
      "20:37\n",
      "生活\n",
      "【武漢封城】防疫情延燒！返鄉車站人潮多　...\n",
      "https://money.udn.comhttps://tw.news.appledaily.com/life/realtime/20200123/1695132/\n",
      "20:30\n",
      "國際\n",
      "【武漢封城】俄羅斯出現武漢肺炎疑似病例　...\n",
      "https://money.udn.comhttps://tw.news.appledaily.com/international/realtime/20200123/1695423/\n",
      "20:28\n",
      "國際\n",
      "【武漢封城】家屬哀怨：一線醫護人員口罩每...\n",
      "https://money.udn.comhttps://tw.news.appledaily.com/international/realtime/20200123/1695424/\n",
      "20:26\n",
      "生活\n",
      "【武漢封城21】昨通報45例疑似病例創新...\n",
      "https://money.udn.comhttps://tw.news.appledaily.com/life/realtime/20200123/1695357/\n",
      "20:13\n",
      "國際\n",
      "【武漢封城】引爆疫情危機的不是竹鼠　而是...\n",
      "https://money.udn.comhttps://tw.news.appledaily.com/international/realtime/20200123/1695418/\n",
      "20:12\n",
      "國際\n",
      "【武漢封城】CNN直擊當地小販　神邏輯「...\n",
      "https://money.udn.comhttps://tw.news.appledaily.com/international/realtime/20200123/1695414/\n",
      "19:31\n",
      "國際\n",
      "【武漢封城】湖北省宣布中小學延後開學　大...\n",
      "https://money.udn.comhttps://tw.news.appledaily.com/international/realtime/20200123/1695409/\n"
     ]
    }
   ],
   "source": [
    "url = 'https://tw.appledaily.com/new/realtime'\n",
    "soup = get_bs4_soup_object(url)\n",
    "result = soup.find_all('li')\n",
    "for item in result:\n",
    "    if search_word in item.text:\n",
    "        print(item.text.strip())\n",
    "        print('https://money.udn.com' + item.a['href'])"
   ]
  },
  {
   "cell_type": "markdown",
   "metadata": {},
   "source": [
    "# 自由時報電子版"
   ]
  },
  {
   "cell_type": "code",
   "execution_count": 194,
   "metadata": {},
   "outputs": [
    {
     "name": "stdout",
     "output_type": "stream",
     "text": [
      "20:55\n",
      "                                        武漢肺炎》武漢全市交通停運 黃岡、鄂州跟進「封城」\n",
      "https://news.ltn.com.tw/news/world/breakingnews/3048816\n",
      "20:55\n",
      "                                        武漢肺炎》中共官媒評武漢封城：可歌可泣 顧全大局\n",
      "https://news.ltn.com.tw/news/world/breakingnews/3048853\n",
      "20:08\n",
      "                                        網傳藥方防武漢肺炎？ 查核網站：謠言\n",
      "https://news.ltn.com.tw/news/life/breakingnews/3048892\n",
      "20:08\n",
      "                                        武漢肺炎》國內通報54例檢驗中 散布假訊息將嚴懲\n",
      "https://news.ltn.com.tw/news/life/breakingnews/3048891\n",
      "1.\n",
      "\n",
      "04:39\n",
      "                    疫情嚴峻 武漢宣布全市交通停運！ 封閉機場、火車站\n",
      "https://news.ltn.com.tw/news/world/breakingnews/3048374\n",
      "2.\n",
      "\n",
      "09:51\n",
      "                    武漢肺炎》習近平指示後疫情大爆發 法媒曝中國內幕\n",
      "https://news.ltn.com.tw/news/world/breakingnews/3048420\n",
      "4.\n",
      "\n",
      "14:32\n",
      "                    武漢肺炎》抗煞專家待1天逃離武漢 估疫情SARS十倍起跳\n",
      "https://news.ltn.com.tw/news/world/breakingnews/3048661\n",
      "5.\n",
      "\n",
      "2020-01-22 23:56\n",
      "                    武漢肺炎》台灣防疫文宣引對岸熱議 中國網友：好羨慕\n",
      "https://news.ltn.com.tw/news/politics/breakingnews/3048293\n",
      "6.\n",
      "\n",
      "2020-01-22 21:42\n",
      "                    又是他！男子連續散佈彰化爆發武漢肺炎假訊息\n",
      "https://news.ltn.com.tw/news/life/breakingnews/3048282\n",
      "疫情嚴峻 武漢宣布全市交通停運！ 封閉機場、火車站\n",
      "https://news.ltn.com.tw/news/world/breakingnews/3048374\n",
      "武漢肺炎》武漢全市交通停運 黃岡、鄂州跟進「封城」\n",
      "https://news.ltn.com.tw/news/world/breakingnews/3048816\n",
      "武漢肺炎》中共官媒評武漢封城：可歌可泣 顧全大局\n",
      "https://news.ltn.com.tw/news/world/breakingnews/3048853\n",
      "網傳藥方防武漢肺炎？ 查核網站：謠言\n",
      "https://news.ltn.com.tw/news/life/breakingnews/3048892\n",
      "美關稅+武漢肺炎 中國經濟雪上加霜\n",
      "https://ec.ltn.com.tw/article/paper/1347899\n",
      "美關稅+武漢肺炎 中國經濟雪上加霜\n",
      "https://news.ltn.com.tw/news/business/paper/1347899\n",
      "武漢肺炎》「何需戴口罩」惹議 韓貼身主播氣炸回擊\n",
      "https://ent.ltn.com.tw/news/breakingnews/3048679\n",
      "獨家》謝淑薇憂武漢肺炎衝擊聯邦盃 網協洽ITF能否改地點或延賽\n",
      "https://sports.ltn.com.tw/news/breakingnews/3048894\n",
      "短時間完成篩檢！德國開發出武漢新型冠狀病毒檢測劑\n",
      "https://health.ltn.com.tw/article/world/breakingnews/3042942\n",
      "武漢肺炎疫情若升溫 學者：內需、金融市場首當其衝\n",
      "https://ec.ltn.com.tw/article/breakingnews/3048865\n",
      "武漢肺炎》華為驚傳印尼辦公室員工疑似感染\n",
      "https://ec.ltn.com.tw/article/breakingnews/3048831\n",
      "武漢肺炎》中國股市封關日暴跌2.75％ 港股重挫431點\n",
      "https://ec.ltn.com.tw/article/breakingnews/3048684\n",
      "武漢肺炎燒不停！中國賀歲片狂撤 損失恐達上百億\n",
      "https://ent.ltn.com.tw/news/breakingnews/3048890\n",
      "防疫升級：中港澳入境全面邊境檢疫　武漢人禁止來台\n",
      "https://news.ltn.com.tw/news/life/breakingnews/3048726\n",
      "止不住！武漢肺炎疫情延燒　湖北黃岡、鄂州跟進「封城」\n",
      "https://news.ltn.com.tw/news/world/breakingnews/3048816\n",
      "快訊》中國武漢肺炎疫情擴大　台灣備戰：疫情中心即起提升至二級應變\n",
      "https://news.ltn.com.tw/news/life/breakingnews/3048726\n"
     ]
    }
   ],
   "source": [
    "url = 'https://www.ltn.com.tw/'\n",
    "soup = get_bs4_soup_object(url)\n",
    "result = soup.find_all('li')\n",
    "for item in result:\n",
    "    if search_word in item.text:\n",
    "        print(item.text.strip())\n",
    "        if 'http' in item.a['href']:\n",
    "            print(item.a['href'])\n",
    "        else:\n",
    "            print('https:' +item.a['href'])\n",
    "            "
   ]
  }
 ],
 "metadata": {
  "kernelspec": {
   "display_name": "Python 3",
   "language": "python",
   "name": "python3"
  },
  "language_info": {
   "codemirror_mode": {
    "name": "ipython",
    "version": 3
   },
   "file_extension": ".py",
   "mimetype": "text/x-python",
   "name": "python",
   "nbconvert_exporter": "python",
   "pygments_lexer": "ipython3",
   "version": "3.7.4"
  }
 },
 "nbformat": 4,
 "nbformat_minor": 2
}
